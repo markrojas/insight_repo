{
 "cells": [
  {
   "cell_type": "markdown",
   "metadata": {
    "colab_type": "text",
    "id": "BPr0UQ_-vs7W"
   },
   "source": [
    "# Dev Setups: Testing Python and Data Science basic stack\n",
    "This document is iterated on every session, and a lot of work goes into making sure it is clear and as simple as possible. Please do not share outside of Insight. Thanks!"
   ]
  },
  {
   "cell_type": "markdown",
   "metadata": {
    "colab_type": "text",
    "id": "w52UTWR8vs7c"
   },
   "source": [
    "## Jupyter notebooks\n",
    "[Jupyter](http://jupyter.org/) notebooks are a great tool for inline documentation of code and data analysis. Many data scientists use them to keep their work clean and well-commented as they explore data and build out data science prototypes. \n",
    "\n",
    "Notebooks consist of a series of cells. Each cell can be configured into different types, including `code` and `markdown`.\n",
    "\n",
    "Click into a cell to focus on those contents. Cells can be executed to run execute the contained code, or render the markdown. The keyboard shortcut to execute a cell is `Shift + Enter`. Test it out on the cells below."
   ]
  },
  {
   "cell_type": "markdown",
   "metadata": {
    "colab_type": "text",
    "id": "EcRBOspIvs7n"
   },
   "source": [
    "### Here is a markdown cell. \n",
    "\n",
    "You can do all sorts of neat formatting tricks including **bold text**, *italics*, headers (#), \n",
    "<div class=\"alert alert-success\"> render HTML, </div>\n",
    "and even [LaTeX](https://en.wikipedia.org/wiki/LaTeX) for mathematical symbol generation, for example:\n",
    "$H\\Psi= i\\hbar \\frac{\\partial}{\\partial t}\\Psi$"
   ]
  },
  {
   "cell_type": "code",
   "execution_count": 1,
   "metadata": {
    "colab": {},
    "colab_type": "code",
    "id": "6_DyPZYnvs72",
    "outputId": "f56c1006-bd7c-4d9c-b5ef-105967e0146c"
   },
   "outputs": [
    {
     "name": "stdout",
     "output_type": "stream",
     "text": [
      "Here is a code cell\n"
     ]
    }
   ],
   "source": [
    "print('Here is a code cell')"
   ]
  },
  {
   "cell_type": "markdown",
   "metadata": {
    "colab_type": "text",
    "id": "k_N-GRDVvs8Y"
   },
   "source": [
    "There are lots of tutorials and guides describing all the tricks and ways to work with Jupyter, here a few that you might find useful:\n",
    "* [Official documentation on markdown](http://jupyter-notebook.readthedocs.io/en/latest/examples/Notebook/Working%20With%20Markdown%20Cells.html)\n",
    "* [DataQuest tips and tricks](https://www.dataquest.io/blog/jupyter-notebook-tips-tricks-shortcuts/)\n",
    "* [Python Data Science Handbook notebooks](https://github.com/jakevdp/PythonDataScienceHandbook/tree/master/notebooks)"
   ]
  },
  {
   "cell_type": "markdown",
   "metadata": {
    "colab_type": "text",
    "id": "ms1_vicIvs8a"
   },
   "source": [
    "## Data Science basic Python stack"
   ]
  },
  {
   "cell_type": "markdown",
   "metadata": {
    "colab_type": "text",
    "id": "ispSSSpWvs8e"
   },
   "source": [
    "## Part 5: Test your installs\n",
    "\n",
    "Go ahead and do a `Shift+Enter` in the cell below. \n",
    "* If you get an error message, your packages didn't install correctly. Revisit part 1 of the dev setup and check your installations.\n",
    "* If you get no error (a number appears next to the box on the left, the computation is finished), great job! Continue to part 6."
   ]
  },
  {
   "cell_type": "code",
   "execution_count": 2,
   "metadata": {
    "colab": {},
    "colab_type": "code",
    "id": "6NUEUh54vs8g"
   },
   "outputs": [],
   "source": [
    "import pandas     # for making easy-to-use data structures\n",
    "import numpy      # a package is for scientific computing\n",
    "import matplotlib # plotting tools\n",
    "import scipy      # open-source software for mathematics, science, and engineering (higher level than numpy)\n",
    "import sklearn    # machine learning package\n",
    "import flask      # tools for web application development"
   ]
  },
  {
   "cell_type": "markdown",
   "metadata": {
    "colab_type": "text",
    "id": "h0RFUDMhvs8-"
   },
   "source": [
    "Now that we've imported your packages, we can start using them. There are a few functions that are particularly useful as you get oriented with new packages and understanding their functionality. The `help()` function pulls up the help file on a package, providing a description of the package and its contents."
   ]
  },
  {
   "cell_type": "code",
   "execution_count": 3,
   "metadata": {
    "colab": {},
    "colab_type": "code",
    "id": "9I6LJamEvs8_"
   },
   "outputs": [
    {
     "name": "stdout",
     "output_type": "stream",
     "text": [
      "Help on package pandas:\n",
      "\n",
      "NAME\n",
      "    pandas\n",
      "\n",
      "DESCRIPTION\n",
      "    pandas - a powerful data analysis and manipulation library for Python\n",
      "    =====================================================================\n",
      "    \n",
      "    **pandas** is a Python package providing fast, flexible, and expressive data\n",
      "    structures designed to make working with \"relational\" or \"labeled\" data both\n",
      "    easy and intuitive. It aims to be the fundamental high-level building block for\n",
      "    doing practical, **real world** data analysis in Python. Additionally, it has\n",
      "    the broader goal of becoming **the most powerful and flexible open source data\n",
      "    analysis / manipulation tool available in any language**. It is already well on\n",
      "    its way toward this goal.\n",
      "    \n",
      "    Main Features\n",
      "    -------------\n",
      "    Here are just a few of the things that pandas does well:\n",
      "    \n",
      "      - Easy handling of missing data in floating point as well as non-floating\n",
      "        point data.\n",
      "      - Size mutability: columns can be inserted and deleted from DataFrame and\n",
      "        higher dimensional objects\n",
      "      - Automatic and explicit data alignment: objects can be explicitly aligned\n",
      "        to a set of labels, or the user can simply ignore the labels and let\n",
      "        `Series`, `DataFrame`, etc. automatically align the data for you in\n",
      "        computations.\n",
      "      - Powerful, flexible group by functionality to perform split-apply-combine\n",
      "        operations on data sets, for both aggregating and transforming data.\n",
      "      - Make it easy to convert ragged, differently-indexed data in other Python\n",
      "        and NumPy data structures into DataFrame objects.\n",
      "      - Intelligent label-based slicing, fancy indexing, and subsetting of large\n",
      "        data sets.\n",
      "      - Intuitive merging and joining data sets.\n",
      "      - Flexible reshaping and pivoting of data sets.\n",
      "      - Hierarchical labeling of axes (possible to have multiple labels per tick).\n",
      "      - Robust IO tools for loading data from flat files (CSV and delimited),\n",
      "        Excel files, databases, and saving/loading data from the ultrafast HDF5\n",
      "        format.\n",
      "      - Time series-specific functionality: date range generation and frequency\n",
      "        conversion, moving window statistics, moving window linear regressions,\n",
      "        date shifting and lagging, etc.\n",
      "\n",
      "PACKAGE CONTENTS\n",
      "    _libs (package)\n",
      "    _version\n",
      "    api (package)\n",
      "    arrays (package)\n",
      "    compat (package)\n",
      "    conftest\n",
      "    core (package)\n",
      "    errors (package)\n",
      "    io (package)\n",
      "    plotting (package)\n",
      "    testing\n",
      "    tests (package)\n",
      "    tseries (package)\n",
      "    util (package)\n",
      "\n",
      "SUBMODULES\n",
      "    _hashtable\n",
      "    _lib\n",
      "    _tslib\n",
      "    offsets\n",
      "\n",
      "DATA\n",
      "    IndexSlice = <pandas.core.indexing._IndexSlice object>\n",
      "    NaT = NaT\n",
      "    __docformat__ = 'restructuredtext'\n",
      "    __git_version__ = 'cb00deb94500205fcb27a33cc1d0df79a9727f8b'\n",
      "    describe_option = <pandas.core.config.CallableDynamicDoc object>\n",
      "    get_option = <pandas.core.config.CallableDynamicDoc object>\n",
      "    options = <pandas.core.config.DictWrapper object>\n",
      "    reset_option = <pandas.core.config.CallableDynamicDoc object>\n",
      "    set_option = <pandas.core.config.CallableDynamicDoc object>\n",
      "\n",
      "VERSION\n",
      "    0.24.2\n",
      "\n",
      "FILE\n",
      "    /home/clutch/anaconda3/envs/insight/lib/python3.7/site-packages/pandas/__init__.py\n",
      "\n",
      "\n"
     ]
    }
   ],
   "source": [
    "help(pandas)"
   ]
  },
  {
   "cell_type": "markdown",
   "metadata": {
    "colab_type": "text",
    "id": "WPJryi6_vs9J"
   },
   "source": [
    "Additionally, Jupyter notebooks (and most IDEs and code-editors) features code auto-completion. This is accessed by the `<tab>` button. Here, you can use it to obtain an interactive list of functionality with a given package. \n",
    "\n",
    "* `module.<tab>` will show you all objects defined in the module (functions, classes and so on)\n",
    "* `module.ClassX.<tab>` will show you the methods and attributes of a class\n",
    "* `module.function_xy?` or `module.ClassX.method_xy?` will show you the docstring of that function / method\n",
    "* `module.function_xy??` or `module.SomeClass.method_xy??` will show you the source code of the function / method.\n"
   ]
  },
  {
   "cell_type": "markdown",
   "metadata": {
    "colab_type": "text",
    "id": "Z5yqahTlvs9d"
   },
   "source": [
    "Try it out below with the package `pandas`, and its `DataFrame` class."
   ]
  },
  {
   "cell_type": "code",
   "execution_count": 4,
   "metadata": {
    "colab": {},
    "colab_type": "code",
    "id": "LxNHJNNevs9f"
   },
   "outputs": [],
   "source": [
    "pandas.DataFrame?"
   ]
  },
  {
   "cell_type": "code",
   "execution_count": 5,
   "metadata": {
    "colab": {},
    "colab_type": "code",
    "id": "ZZjyORT8vs9l"
   },
   "outputs": [],
   "source": [
    "pandas.DataFrame??"
   ]
  },
  {
   "cell_type": "markdown",
   "metadata": {
    "colab_type": "text",
    "id": "2dWqHZ2zvs9r"
   },
   "source": [
    "<div class=\"alert alert-info\">\n",
    "**Packages, modules, functions**  \n",
    "<ul>\n",
    "<li>a Python function is a contained block of code with well-defined inputs and outputs. </li>\n",
    "<li>a Python module is a Python source file, which can expose classes and functions. </li>\n",
    "<li>a Python package is simply a directory of Python module(s). </li>\n",
    "</ul> <br>\n",
    "For example, imagine the following directory tree in `/python/packages/`:  \n",
    "<blockquote>\n",
    "`my_package/__init__.py`, this is what tells Python to treat this directory as a package  \n",
    "`my_package/my_module.py`, this is a module within the package\n",
    "</blockquote>\n",
    "\n",
    "So then you would do: <br>\n",
    "\n",
    "`import my_package`, to import the full package.<br>\n",
    "\n",
    "`import my_package.my_module`, to import a specific module.<br>\n",
    "\n",
    "`from my_package.my_module import my_class`, to import a specific class or function.<br>\n",
    "\n",
    "</div>"
   ]
  },
  {
   "cell_type": "markdown",
   "metadata": {
    "colab_type": "text",
    "id": "JUbsnRNVvs9t"
   },
   "source": [
    "## Part 6: Creating the Insight graphic\n",
    "In addition to being great for text formatting, Jupyter notebooks allow for inline visualizations. Here's a quick example."
   ]
  },
  {
   "cell_type": "code",
   "execution_count": 6,
   "metadata": {
    "colab": {},
    "colab_type": "code",
    "id": "iEMZsZV9vs9u",
    "outputId": "06fc5153-8b09-4a86-a0ed-9c00c83fd704"
   },
   "outputs": [
    {
     "data": {
      "image/png": "[encoded data removed]",
      "text/plain": [
       "<Figure size 320x128 with 1 Axes>"
      ]
     },
     "metadata": {
      "needs_background": "light"
     },
     "output_type": "display_data"
    }
   ],
   "source": [
    "%matplotlib inline \n",
    "import matplotlib.pyplot as plt\n",
    "import matplotlib.patches as mpatches\n",
    "\n",
    "dpi = 80\n",
    "fig = plt.figure(figsize=(4, 1.6),dpi=dpi)\n",
    "\n",
    "def add_background():\n",
    "    ax = fig.add_axes([0., 0., 1., 1.], facecolor='black')\n",
    "    rect = mpatches.Rectangle([0, .86], 0.05, 0.14, ec=\"none\", facecolor='black')\n",
    "    ax.add_patch(rect)\n",
    "    rect = mpatches.Rectangle([0.05, .86], 0.05, 0.14, ec=\"none\", facecolor='gray')\n",
    "    ax.add_patch(rect)\n",
    "    rect = mpatches.Rectangle([0, 0.72], 0.05, 0.14, ec=\"none\", facecolor='gray')\n",
    "    ax.add_patch(rect)\n",
    "    rect = mpatches.Rectangle([.95, 0], 0.05, 0.14, ec=\"none\", facecolor='black')\n",
    "    ax.add_patch(rect)\n",
    "    rect = mpatches.Rectangle([.90, 0], 0.05, 0.14, ec=\"none\", facecolor='gray')\n",
    "    ax.add_patch(rect)\n",
    "    rect = mpatches.Rectangle([.95, .14], 0.05, 0.14, ec=\"none\", facecolor='gray')\n",
    "    ax.add_patch(rect)\n",
    "    ax.set_axis_off()\n",
    "    return ax\n",
    "\n",
    "def add_insight_text(ax):\n",
    "    ax.text(0.52, 0.5, 'INSIGHT', color='black', fontsize=45, \n",
    "            ha='center', va='center', alpha=1.0, transform=ax.transAxes)\n",
    "\n",
    "if __name__ == '__main__':\n",
    "    main_axes = add_background()\n",
    "    add_insight_text(main_axes)"
   ]
  },
  {
   "cell_type": "markdown",
   "metadata": {
    "colab_type": "text",
    "id": "hCcZBt9Qvs96"
   },
   "source": [
    "<div class=\"alert alert-info\">\n",
    "**IPython magic**  \n",
    "Did you notice the `%matplotlib inline` command above? This is an example of and IPython magic command (Jupyter is based on the IPython kernel and thus has access to all Magics). Magics are neat functionality built into notebooks that can make life a lot easier. The `%matplotlib inline` command allows for plots to be generated directly into the notebook. The command `%lsmagic` lists all the available magics. <br><br>\n",
    "\n",
    "The full documentation can be found <a href=\"http://ipython.readthedocs.io/en/stable/interactive/magics.html\">here</a>.\n",
    "</div>"
   ]
  },
  {
   "cell_type": "code",
   "execution_count": 7,
   "metadata": {
    "colab": {},
    "colab_type": "code",
    "id": "H0Tga9nqvs97"
   },
   "outputs": [
    {
     "data": {
      "application/json": {
       "cell": {
        "!": "OSMagics",
        "HTML": "Other",
        "SVG": "Other",
        "bash": "Other",
        "capture": "ExecutionMagics",
        "debug": "ExecutionMagics",
        "file": "Other",
        "html": "DisplayMagics",
        "javascript": "DisplayMagics",
        "js": "DisplayMagics",
        "latex": "DisplayMagics",
        "markdown": "DisplayMagics",
        "perl": "Other",
        "prun": "ExecutionMagics",
        "pypy": "Other",
        "python": "Other",
        "python2": "Other",
        "python3": "Other",
        "ruby": "Other",
        "script": "ScriptMagics",
        "sh": "Other",
        "svg": "DisplayMagics",
        "sx": "OSMagics",
        "system": "OSMagics",
        "time": "ExecutionMagics",
        "timeit": "ExecutionMagics",
        "writefile": "OSMagics"
       },
       "line": {
        "alias": "OSMagics",
        "alias_magic": "BasicMagics",
        "autoawait": "AsyncMagics",
        "autocall": "AutoMagics",
        "automagic": "AutoMagics",
        "autosave": "KernelMagics",
        "bookmark": "OSMagics",
        "cat": "Other",
        "cd": "OSMagics",
        "clear": "KernelMagics",
        "colors": "BasicMagics",
        "conda": "PackagingMagics",
        "config": "ConfigMagics",
        "connect_info": "KernelMagics",
        "cp": "Other",
        "debug": "ExecutionMagics",
        "dhist": "OSMagics",
        "dirs": "OSMagics",
        "doctest_mode": "BasicMagics",
        "ed": "Other",
        "edit": "KernelMagics",
        "env": "OSMagics",
        "gui": "BasicMagics",
        "hist": "Other",
        "history": "HistoryMagics",
        "killbgscripts": "ScriptMagics",
        "ldir": "Other",
        "less": "KernelMagics",
        "lf": "Other",
        "lk": "Other",
        "ll": "Other",
        "load": "CodeMagics",
        "load_ext": "ExtensionMagics",
        "loadpy": "CodeMagics",
        "logoff": "LoggingMagics",
        "logon": "LoggingMagics",
        "logstart": "LoggingMagics",
        "logstate": "LoggingMagics",
        "logstop": "LoggingMagics",
        "ls": "Other",
        "lsmagic": "BasicMagics",
        "lx": "Other",
        "macro": "ExecutionMagics",
        "magic": "BasicMagics",
        "man": "KernelMagics",
        "matplotlib": "PylabMagics",
        "mkdir": "Other",
        "more": "KernelMagics",
        "mv": "Other",
        "notebook": "BasicMagics",
        "page": "BasicMagics",
        "pastebin": "CodeMagics",
        "pdb": "ExecutionMagics",
        "pdef": "NamespaceMagics",
        "pdoc": "NamespaceMagics",
        "pfile": "NamespaceMagics",
        "pinfo": "NamespaceMagics",
        "pinfo2": "NamespaceMagics",
        "pip": "PackagingMagics",
        "popd": "OSMagics",
        "pprint": "BasicMagics",
        "precision": "BasicMagics",
        "prun": "ExecutionMagics",
        "psearch": "NamespaceMagics",
        "psource": "NamespaceMagics",
        "pushd": "OSMagics",
        "pwd": "OSMagics",
        "pycat": "OSMagics",
        "pylab": "PylabMagics",
        "qtconsole": "KernelMagics",
        "quickref": "BasicMagics",
        "recall": "HistoryMagics",
        "rehashx": "OSMagics",
        "reload_ext": "ExtensionMagics",
        "rep": "Other",
        "rerun": "HistoryMagics",
        "reset": "NamespaceMagics",
        "reset_selective": "NamespaceMagics",
        "rm": "Other",
        "rmdir": "Other",
        "run": "ExecutionMagics",
        "save": "CodeMagics",
        "sc": "OSMagics",
        "set_env": "OSMagics",
        "store": "StoreMagics",
        "sx": "OSMagics",
        "system": "OSMagics",
        "tb": "ExecutionMagics",
        "time": "ExecutionMagics",
        "timeit": "ExecutionMagics",
        "unalias": "OSMagics",
        "unload_ext": "ExtensionMagics",
        "who": "NamespaceMagics",
        "who_ls": "NamespaceMagics",
        "whos": "NamespaceMagics",
        "xdel": "NamespaceMagics",
        "xmode": "BasicMagics"
       }
      },
      "text/plain": [
       "Available line magics:\n",
       "%alias  %alias_magic  %autoawait  %autocall  %automagic  %autosave  %bookmark  %cat  %cd  %clear  %colors  %conda  %config  %connect_info  %cp  %debug  %dhist  %dirs  %doctest_mode  %ed  %edit  %env  %gui  %hist  %history  %killbgscripts  %ldir  %less  %lf  %lk  %ll  %load  %load_ext  %loadpy  %logoff  %logon  %logstart  %logstate  %logstop  %ls  %lsmagic  %lx  %macro  %magic  %man  %matplotlib  %mkdir  %more  %mv  %notebook  %page  %pastebin  %pdb  %pdef  %pdoc  %pfile  %pinfo  %pinfo2  %pip  %popd  %pprint  %precision  %prun  %psearch  %psource  %pushd  %pwd  %pycat  %pylab  %qtconsole  %quickref  %recall  %rehashx  %reload_ext  %rep  %rerun  %reset  %reset_selective  %rm  %rmdir  %run  %save  %sc  %set_env  %store  %sx  %system  %tb  %time  %timeit  %unalias  %unload_ext  %who  %who_ls  %whos  %xdel  %xmode\n",
       "\n",
       "Available cell magics:\n",
       "%%!  %%HTML  %%SVG  %%bash  %%capture  %%debug  %%file  %%html  %%javascript  %%js  %%latex  %%markdown  %%perl  %%prun  %%pypy  %%python  %%python2  %%python3  %%ruby  %%script  %%sh  %%svg  %%sx  %%system  %%time  %%timeit  %%writefile\n",
       "\n",
       "Automagic is ON, % prefix IS NOT needed for line magics."
      ]
     },
     "execution_count": 7,
     "metadata": {},
     "output_type": "execute_result"
    }
   ],
   "source": [
    "%lsmagic"
   ]
  },
  {
   "cell_type": "markdown",
   "metadata": {
    "colab_type": "text",
    "id": "cnCk6VzOvs-A"
   },
   "source": [
    "Open up `DS_sql_dev_setup.ipynb` to launch the last part of the dev setup materials."
   ]
  },
  {
   "cell_type": "code",
   "execution_count": null,
   "metadata": {},
   "outputs": [],
   "source": []
  }
 ],
 "metadata": {
  "colab": {
   "name": "DS_dev_setup_part_2.ipynb",
   "provenance": [],
   "version": "0.3.2"
  },
  "kernelspec": {
   "display_name": "Python 3",
   "language": "python",
   "name": "python3"
  },
  "language_info": {
   "codemirror_mode": {
    "name": "ipython",
    "version": 3
   },
   "file_extension": ".py",
   "mimetype": "text/x-python",
   "name": "python",
   "nbconvert_exporter": "python",
   "pygments_lexer": "ipython3",
   "version": "3.7.3"
  }
 },
 "nbformat": 4,
 "nbformat_minor": 1
}
